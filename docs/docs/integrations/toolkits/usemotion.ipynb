{
  "nbformat": 4,
  "nbformat_minor": 0,
  "metadata": {
    "colab": {
      "provenance": [],
      "authorship_tag": "ABX9TyP5w+EW0LBcOsktUfGeds26",
      "include_colab_link": true
    },
    "kernelspec": {
      "name": "python3",
      "display_name": "Python 3"
    },
    "language_info": {
      "name": "python"
    }
  },
  "cells": [
    {
      "cell_type": "markdown",
      "metadata": {
        "id": "view-in-github",
        "colab_type": "text"
      },
      "source": [
        "<a href=\"https://colab.research.google.com/github/gitchrisqueen/langchain/blob/usemotion_toolkit/docs/docs/integrations/toolkits/usemotion.ipynb\" target=\"_parent\"><img src=\"https://colab.research.google.com/assets/colab-badge.svg\" alt=\"Open In Colab\"/></a>"
      ]
    },
    {
      "cell_type": "markdown",
      "source": [
        "Use Motion\n",
        "\n",
        "This notebook goes over how to use the UseMotion toolkit"
      ],
      "metadata": {
        "id": "_2pad-_hthBo"
      }
    },
    {
      "cell_type": "code",
      "execution_count": null,
      "metadata": {
        "id": "z8ygXWqJtYV7"
      },
      "outputs": [],
      "source": [
        "import os\n",
        "\n",
        "from langchain.agents import AgentType, initialize_agent\n",
        "from langchain.agents.agent_toolkits.usemotion.toolkit import UseMotionToolkit\n",
        "from langchain.llms import OpenAI\n",
        "from langchain.utilities.usemotion import UseMotionAPIWrapper"
      ]
    },
    {
      "cell_type": "code",
      "source": [
        "os.environ[\"MOTION_API_KEY\"] = \"abc\"\n",
        "os.environ[\"MOTION_INSTANCE_URL\"] = \"https://api.usemotion.com/v1\"\n",
        "os.environ[\"OPENAI_API_KEY\"] = \"xyz\""
      ],
      "metadata": {
        "id": "OjZQ4rhcud2N"
      },
      "execution_count": null,
      "outputs": []
    }
  ]
}